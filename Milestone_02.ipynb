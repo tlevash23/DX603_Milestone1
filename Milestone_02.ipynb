{
 "cells": [
  {
   "cell_type": "markdown",
   "metadata": {},
   "source": [
    "# Project Milestone Two: Modeling and Feature Engineering\n",
    "\n",
    "### Due: Midnight on August 3 (with 2-hour grace period) and worth 50 points\n",
    "\n",
    "### Overview\n",
    "\n",
    "This milestone builds on your work from Milestone 1 and will complete the coding portion of your project. You will:\n",
    "\n",
    "1. Pick 3 modeling algorithms from those we have studied.\n",
    "2. Evaluate baseline models using default settings.\n",
    "3. Engineer new features and re-evaluate models.\n",
    "4. Use feature selection techniques and re-evaluate.\n",
    "5. Fine-tune for optimal performance.\n",
    "6. Select your best model and report on your results. \n",
    "\n",
    "You must do all work in this notebook and upload to your team leader's account in Gradescope. There is no\n",
    "Individual Assessment for this Milestone. \n"
   ]
  },
  {
   "cell_type": "code",
   "execution_count": 1,
   "metadata": {},
   "outputs": [],
   "source": [
    "# ===================================\n",
    "# Useful Imports: Add more as needed\n",
    "# ===================================\n",
    "\n",
    "# Standard Libraries\n",
    "import os\n",
    "import time\n",
    "import math\n",
    "import io\n",
    "import zipfile\n",
    "import requests\n",
    "from urllib.parse import urlparse\n",
    "from itertools import chain, combinations\n",
    "\n",
    "# Data Science Libraries\n",
    "import numpy as np\n",
    "import pandas as pd\n",
    "import seaborn as sns\n",
    "\n",
    "# Visualization\n",
    "import matplotlib.pyplot as plt\n",
    "import matplotlib.patches as patches\n",
    "import matplotlib.ticker as mticker  # Optional: Format y-axis labels as dollars\n",
    "import seaborn as sns\n",
    "\n",
    "# Scikit-learn (Machine Learning)\n",
    "from sklearn.model_selection import (\n",
    "    train_test_split, \n",
    "    cross_val_score, \n",
    "    GridSearchCV, \n",
    "    RandomizedSearchCV, \n",
    "    RepeatedKFold\n",
    ")\n",
    "from sklearn.preprocessing import StandardScaler, OrdinalEncoder\n",
    "from sklearn.impute import SimpleImputer\n",
    "from sklearn.metrics import mean_squared_error\n",
    "from sklearn.feature_selection import SequentialFeatureSelector, f_regression, SelectKBest\n",
    "from sklearn.linear_model import LinearRegression, Ridge, Lasso, ElasticNet\n",
    "from sklearn.ensemble import BaggingRegressor, RandomForestRegressor, GradientBoostingRegressor\n",
    "\n",
    "# Progress Tracking\n",
    "\n",
    "from tqdm import tqdm\n",
    "\n",
    "# =============================\n",
    "# Global Variables\n",
    "# =============================\n",
    "random_state = 42\n",
    "\n",
    "# =============================\n",
    "# Utility Functions\n",
    "# =============================\n",
    "\n",
    "# Format y-axis labels as dollars with commas (optional)\n",
    "def dollar_format(x, pos):\n",
    "    return f'${x:,.0f}'\n",
    "\n",
    "# Convert seconds to HH:MM:SS format\n",
    "def format_hms(seconds):\n",
    "    return time.strftime(\"%H:%M:%S\", time.gmtime(seconds))\n",
    "\n"
   ]
  },
  {
   "cell_type": "code",
   "execution_count": 20,
   "metadata": {},
   "outputs": [],
   "source": [
    "from sklearn.feature_selection import SelectKBest, f_classif"
   ]
  },
  {
   "cell_type": "markdown",
   "metadata": {},
   "source": [
    "### Prelude: Load your Preprocessed Dataset from Milestone 1\n",
    "\n",
    "In Milestone 1, you handled missing values, encoded categorical features, and explored your data. Before you begin this milestone, you’ll need to load that cleaned dataset and prepare it for modeling. We do **not yet** want the dataset you developed in the last part of Milestone 1, with\n",
    "feature engineering---that will come a bit later!\n",
    "\n",
    "Here’s what to do:\n",
    "\n",
    "1. Return to your Milestone 1 notebook and rerun your code through Part 3, where your dataset was fully cleaned (assume it’s called `df_cleaned`).\n",
    "\n",
    "2. **Save** the cleaned dataset to a file by running:\n",
    "\n",
    ">   df_cleaned.to_csv(\"zillow_cleaned.csv\", index=False)\n",
    "\n",
    "3. Switch to this notebook and **load** the saved data:\n",
    "\n",
    ">   df = pd.read_csv(\"zillow_cleaned.csv\")\n",
    "\n",
    "4. Create a **train/test split** using `train_test_split`.  \n",
    "   \n",
    "6. **Standardize** the features (but not the target!) using **only the training data.** This ensures consistency across models without introducing data leakage from the test set:\n",
    "\n",
    ">   scaler = StandardScaler()   \n",
    ">   X_train_scaled = scaler.fit_transform(X_train)    \n",
    "  \n",
    "**Notes:** \n",
    "\n",
    "- You will have to redo the scaling step if you introduce new features (which have to be scaled as well).\n"
   ]
  },
  {
   "cell_type": "code",
   "execution_count": 2,
   "metadata": {},
   "outputs": [],
   "source": [
    "# Add as many cells as you need\n",
    "\n",
    "# Step 1-3\n",
    "df = pd.read_csv(\"zillow_cleaned.csv\")"
   ]
  },
  {
   "cell_type": "code",
   "execution_count": 3,
   "metadata": {},
   "outputs": [
    {
     "name": "stdout",
     "output_type": "stream",
     "text": [
      "(62060, 22) (15516, 22) (62060,) (15516,)\n"
     ]
    }
   ],
   "source": [
    "# Step 4\n",
    "X = df.drop(columns=[\"taxvaluedollarcnt\"])   # all features\n",
    "y = df[\"taxvaluedollarcnt\"]                  # target\n",
    "\n",
    "\n",
    "X_train, X_test, y_train, y_test = train_test_split(\n",
    "    X, y,\n",
    "    test_size=0.2,\n",
    "    random_state=random_state\n",
    ")\n",
    "\n",
    "\n",
    "print(X_train.shape, X_test.shape, y_train.shape, y_test.shape)\n"
   ]
  },
  {
   "cell_type": "code",
   "execution_count": 4,
   "metadata": {},
   "outputs": [
    {
     "name": "stdout",
     "output_type": "stream",
     "text": [
      "(62060, 22) (15516, 22)\n"
     ]
    }
   ],
   "source": [
    "# 5a) Numeric vs. categorical columns\n",
    "numeric_cols     = X_train.select_dtypes(include=[np.number]).columns\n",
    "categorical_cols = X_train.select_dtypes(exclude=[np.number]).columns\n",
    "\n",
    "# 5b) Median for numerics, most frequent for categoricals\n",
    "num_imp = SimpleImputer(strategy=\"median\")\n",
    "cat_imp = SimpleImputer(strategy=\"most_frequent\")\n",
    "\n",
    "X_train_num = pd.DataFrame(\n",
    "    num_imp.fit_transform(X_train[numeric_cols]),\n",
    "    columns=numeric_cols,\n",
    "    index=X_train.index\n",
    ")\n",
    "X_test_num  = pd.DataFrame(\n",
    "    num_imp.transform(X_test[numeric_cols]),\n",
    "    columns=numeric_cols,\n",
    "    index=X_test.index\n",
    ")\n",
    "\n",
    "X_train_cat = pd.DataFrame(\n",
    "    cat_imp.fit_transform(X_train[categorical_cols]),\n",
    "    columns=categorical_cols,\n",
    "    index=X_train.index\n",
    ")\n",
    "X_test_cat  = pd.DataFrame(\n",
    "    cat_imp.transform(X_test[categorical_cols]),\n",
    "    columns=categorical_cols,\n",
    "    index=X_test.index\n",
    ")\n",
    "\n",
    "# 5c) Scale the numeric block\n",
    "scaler = StandardScaler()\n",
    "X_train_num_scaled = pd.DataFrame(\n",
    "    scaler.fit_transform(X_train_num),\n",
    "    columns=numeric_cols,\n",
    "    index=X_train.index\n",
    ")\n",
    "X_test_num_scaled = pd.DataFrame(\n",
    "    scaler.transform(X_test_num),\n",
    "    columns=numeric_cols,\n",
    "    index=X_test.index\n",
    ")\n",
    "\n",
    "# 5d) Ordinal‐encode to (now imputed) categoricals,\n",
    "#   \n",
    "encoder = OrdinalEncoder(\n",
    "    handle_unknown=\"use_encoded_value\",\n",
    "    unknown_value=-1\n",
    ")\n",
    "X_train_cat_enc = pd.DataFrame(\n",
    "    encoder.fit_transform(X_train_cat),\n",
    "    columns=categorical_cols,\n",
    "    index=X_train.index\n",
    ")\n",
    "X_test_cat_enc  = pd.DataFrame(\n",
    "    encoder.transform(X_test_cat),\n",
    "    columns=categorical_cols,\n",
    "    index=X_test.index\n",
    ")\n",
    "\n",
    "# 5e) Final\n",
    "X_train_scaled = pd.concat([X_train_num_scaled, X_train_cat_enc], axis=1)\n",
    "X_test_scaled  = pd.concat([X_test_num_scaled, X_test_cat_enc],   axis=1)\n",
    "\n",
    "print(X_train_scaled.shape, X_test_scaled.shape)\n",
    "\n"
   ]
  },
  {
   "cell_type": "markdown",
   "metadata": {},
   "source": [
    "### Part 1: Picking Three Models and Establishing Baselines [6 pts]\n",
    "\n",
    "Apply the following regression models to the scaled training dataset using **default parameters** for **three** of the models we have worked with this term:\n",
    "\n",
    "- Linear Regression\n",
    "- Ridge Regression\n",
    "- Lasso Regression\n",
    "- Decision Tree Regression\n",
    "- Bagging\n",
    "- Random Forest\n",
    "- Gradient Boosting Trees\n",
    "\n",
    "For each of the three models:\n",
    "- Use **repeated cross-validation** (e.g., 5 folds, 5 repeats).\n",
    "- Report the **mean and standard deviation of CV MAE Score**. \n"
   ]
  },
  {
   "cell_type": "code",
   "execution_count": 5,
   "metadata": {},
   "outputs": [
    {
     "name": "stdout",
     "output_type": "stream",
     "text": [
      "Ridge Regression     → MAE: 243773 ± 3343\n",
      "Bagging Regressor    → MAE: 198207 ± 2761\n",
      "Gradient Boosting    → MAE: 200104 ± 2555\n"
     ]
    }
   ],
   "source": [
    "# 3 Models are ridge, bagging, gbr\n",
    "ridge = Ridge(random_state=random_state)\n",
    "bagging = BaggingRegressor(random_state=random_state)\n",
    "gbr = GradientBoostingRegressor(random_state=random_state)\n",
    "\n",
    "models = [\n",
    "    (\"Ridge Regression\", ridge),\n",
    "    (\"Bagging Regressor\", bagging),\n",
    "    (\"Gradient Boosting\", gbr),\n",
    "]\n",
    "\n",
    "# Repeated CV (5 folds x 5 repeats)\n",
    "rkf = RepeatedKFold(\n",
    "    n_splits=5,\n",
    "    n_repeats=5,\n",
    "    random_state=random_state\n",
    ")\n",
    "\n",
    "# Evaluate each model\n",
    "for name, model in models:\n",
    "    neg_mae_scores = cross_val_score(\n",
    "        model,\n",
    "        X_train_scaled,\n",
    "        y_train,\n",
    "        scoring=\"neg_mean_absolute_error\",\n",
    "        cv=rkf,\n",
    "        n_jobs=-1\n",
    "    )\n",
    "    mae_scores = -neg_mae_scores  \n",
    "    print(f\"{name:20s} → MAE: {mae_scores.mean():.0f} ± {mae_scores.std():.0f}\")\n"
   ]
  },
  {
   "cell_type": "code",
   "execution_count": 6,
   "metadata": {},
   "outputs": [
    {
     "name": "stdout",
     "output_type": "stream",
     "text": [
      "Random Forest → MAE: 190862 ± 2583\n"
     ]
    }
   ],
   "source": [
    "# Added Random Forest to test (all had high MAE)\n",
    "rf = RandomForestRegressor(random_state=random_state)\n",
    "\n",
    "neg_mae = cross_val_score(\n",
    "    rf,\n",
    "    X_train_scaled,     \n",
    "    y_train,\n",
    "    scoring=\"neg_mean_absolute_error\",\n",
    "    cv=rkf,              \n",
    "    n_jobs=-1\n",
    ")\n",
    "mae = -neg_mae\n",
    "print(f\"Random Forest → MAE: {mae.mean():.0f} ± {mae.std():.0f}\")\n"
   ]
  },
  {
   "cell_type": "code",
   "execution_count": 7,
   "metadata": {},
   "outputs": [
    {
     "data": {
      "image/png": "[encoded data removed]",
      "text/plain": [
       "<Figure size 600x400 with 1 Axes>"
      ]
     },
     "metadata": {},
     "output_type": "display_data"
    }
   ],
   "source": [
    "#Bar Chart to compare / evaluate \n",
    "\n",
    "models = [\"Ridge\", \"Bagging\", \"GBM\", \"RF\"]\n",
    "means  = [244000, 198000, 200000, 191000]  # your exact means\n",
    "stds   = [3300,   2760,   2555,   2583]    # your exact stds\n",
    "\n",
    "plt.figure(figsize=(6,4))\n",
    "plt.bar(models, means, yerr=stds, capsize=5)\n",
    "plt.ylabel(\"Mean MAE\")\n",
    "plt.title(\"Model Comparison: Mean ±1o MAE\")\n",
    "plt.show()\n"
   ]
  },
  {
   "cell_type": "markdown",
   "metadata": {},
   "source": [
    "### Part 1: Discussion [3 pts]\n",
    "\n",
    "In a paragraph or well-organized set of bullet points, briefly compare and discuss:\n",
    "\n",
    "  - Which model performed best overall?\n",
    "  - Which was most stable (lowest std)?\n",
    "  - Any signs of overfitting or underfitting?"
   ]
  },
  {
   "cell_type": "markdown",
   "metadata": {},
   "source": [
    "The Random Forest Model was the best overall performer in terms of mean absolute error with roughly 191,000 and it had the smallest standard deviation with 2,600. The worst performer was the Ridge model with approximately 244,000 in terms of MAE and was the least stable at 3,300 standard deviation. This makes sense because of the numerous complex variables used in predicting house prices that it would not be simple enought to fit a linear model like the ridge for this situation. I decided to try a fourth model with the random forest because the MAE were all very large for the first three models selected and I wanted to explore more. While the random forest helped improve the MAE there were no large indicators that any of these models were over-fitting in the cross validation. The argument could actually be made that the models are underfitting the data given the complexity of prediction at hand.    "
   ]
  },
  {
   "cell_type": "markdown",
   "metadata": {},
   "source": [
    "### Part 2: Feature Engineering [6 pts]\n",
    "\n",
    "Pick **at least three new features** based on your Milestone 1, Part 5, results. You may pick new ones or\n",
    "use the same ones you chose for Milestone 1. \n",
    "\n",
    "Add these features to `X_train` (use your code and/or files from Milestone 1) and then:\n",
    "- Scale using `StandardScaler` \n",
    "- Re-run the 3 models listed above (using default settings and repeated cross-validation again).\n",
    "- Report the **mean and standard deviation of CV MAE Scores**.  \n"
   ]
  },
  {
   "cell_type": "code",
   "execution_count": 8,
   "metadata": {
    "jp-MarkdownHeadingCollapsed": true
   },
   "outputs": [],
   "source": [
    "#Feature Engineering 1: Ratio feature (Bath to Bed Ratio) \n",
    "\n",
    "#Train\n",
    "X_train_num['bath_to_bed_ratio'] = X_train_num['fullbathcnt'] * X_train_num['bedroomcnt']\n",
    "\n",
    "#Test\n",
    "X_test_num['bath_to_bed_ratio'] = X_test_num['fullbathcnt'] * X_test_num['bedroomcnt']\n"
   ]
  },
  {
   "cell_type": "code",
   "execution_count": 9,
   "metadata": {},
   "outputs": [],
   "source": [
    "#Feature Engineeing 2: Square Feet & Bathroom Interaction\n",
    "\n",
    "#Train\n",
    "X_train_num['sqft_bath_interaction'] = X_train_num['calculatedfinishedsquarefeet'] * X_train_num['fullbathcnt']\n",
    "\n",
    "#Test\n",
    "X_test_num['sqft_bath_interaction'] = X_test_num['calculatedfinishedsquarefeet'] * X_test_num['fullbathcnt']\n",
    "\n"
   ]
  },
  {
   "cell_type": "code",
   "execution_count": 10,
   "metadata": {},
   "outputs": [],
   "source": [
    "#Feature Engineering 3: Sqaure feet & Property Type Interaction\n",
    "\n",
    "#Train\n",
    "X_train_num['sqft_vs_type_average'] = X_train_num['calculatedfinishedsquarefeet'] / X_train_num['propertylandusetypeid'].map(X_train_num.groupby('propertylandusetypeid')['calculatedfinishedsquarefeet'].mean())\n",
    "\n",
    "#Test\n",
    "X_test_num['sqft_vs_type_average'] = X_test_num['calculatedfinishedsquarefeet'] / X_test_num['propertylandusetypeid'].map(X_test_num.groupby('propertylandusetypeid')['calculatedfinishedsquarefeet'].mean())\n"
   ]
  },
  {
   "cell_type": "code",
   "execution_count": 11,
   "metadata": {},
   "outputs": [],
   "source": [
    "#Add new features to numeric_cols\n",
    "numeric_cols_list = list(numeric_cols)\n",
    "numeric_cols_list.extend(['bath_to_bed_ratio', 'sqft_bath_interaction', 'sqft_vs_type_average'])\n",
    "numeric_cols = pd.Index(numeric_cols_list)\n",
    "numeric_cols = numeric_cols.drop_duplicates()"
   ]
  },
  {
   "cell_type": "code",
   "execution_count": 12,
   "metadata": {},
   "outputs": [],
   "source": [
    "#New train and test sets with new features\n",
    "X_train_num_scaled2 = pd.DataFrame(\n",
    "    scaler.fit_transform(X_train_num),\n",
    "    columns=numeric_cols,\n",
    "    index=X_train.index\n",
    ")"
   ]
  },
  {
   "cell_type": "code",
   "execution_count": 13,
   "metadata": {},
   "outputs": [],
   "source": [
    "X_test_num_scaled2 = pd.DataFrame(\n",
    "    scaler.transform(X_test_num),\n",
    "    columns=numeric_cols,\n",
    "    index=X_test.index\n",
    "\n",
    ")"
   ]
  },
  {
   "cell_type": "code",
   "execution_count": 14,
   "metadata": {},
   "outputs": [],
   "source": [
    "#Running models Function\n",
    "\n",
    "def evaluate_models(models, X_data, y_data, cv_folds=None):\n",
    "  \n",
    "    if cv_folds is None:\n",
    "        cv_folds = RepeatedKFold(\n",
    "            n_splits=5,\n",
    "            n_repeats=5,\n",
    "            random_state=random_state\n",
    "        )\n",
    "    \n",
    "    results = {}\n",
    "    \n",
    "    for name, model in models.items():\n",
    "        neg_mae_scores = cross_val_score(\n",
    "            model,\n",
    "            X_data,\n",
    "            y_data,\n",
    "            scoring=\"neg_mean_absolute_error\",\n",
    "            cv=cv_folds,\n",
    "            n_jobs=-1\n",
    "        )\n",
    "        mae_scores = -neg_mae_scores\n",
    "        results[name] = {\n",
    "            'mae_scores': mae_scores,\n",
    "            'mean_mae': mae_scores.mean(),\n",
    "            'std_mae': mae_scores.std()\n",
    "        }\n",
    "        print(f\"{name:20s} -> MAE: {mae_scores.mean():.3f} ± {mae_scores.std():.3f}\")\n",
    "    \n",
    "    return results\n"
   ]
  },
  {
   "cell_type": "code",
   "execution_count": 15,
   "metadata": {},
   "outputs": [],
   "source": [
    "models_dict = {\n",
    "    \"Ridge Regression\": ridge,\n",
    "    \"Bagging Regressor\": bagging, \n",
    "    \"Gradient Boosting\": gbr\n",
    "}"
   ]
  },
  {
   "cell_type": "code",
   "execution_count": 16,
   "metadata": {},
   "outputs": [
    {
     "name": "stdout",
     "output_type": "stream",
     "text": [
      "Ridge Regression     -> MAE: 230466.011 ± 3225.957\n",
      "Bagging Regressor    -> MAE: 198443.023 ± 2403.191\n",
      "Gradient Boosting    -> MAE: 200116.990 ± 2430.064\n"
     ]
    },
    {
     "data": {
      "text/plain": [
       "{'Ridge Regression': {'mae_scores': array([228778.52926018, 229568.7393022 , 231279.2329585 , 234894.02588305,\n",
       "         227817.93760318, 226357.00712834, 229929.53491438, 232975.60021808,\n",
       "         231052.30314423, 232352.91760562, 224211.64737391, 234652.01635845,\n",
       "         231220.55380712, 228012.30569697, 234129.36840192, 233121.64143302,\n",
       "         228078.26082543, 233090.70251096, 232020.05128207, 225849.92974243,\n",
       "         235313.78151528, 226976.04005409, 233745.2296898 , 231598.91481065,\n",
       "         224624.00410142]),\n",
       "  'mean_mae': np.float64(230466.01102485112),\n",
       "  'std_mae': np.float64(3225.9571177426187)},\n",
       " 'Bagging Regressor': {'mae_scores': array([195125.68679429, 199494.15177043, 202574.92063674, 199954.18850823,\n",
       "         195934.38170875, 194873.30671115, 199117.79629428, 200180.85788712,\n",
       "         199098.03883237, 202179.46128861, 194259.10465886, 202703.88728052,\n",
       "         199089.49394894, 195202.58894152, 201437.55797236, 198451.57091556,\n",
       "         196893.53078655, 200148.16012639, 199016.83000456, 197662.4887184 ,\n",
       "         199102.25208334, 196278.41373505, 199438.67295778, 196434.15683456,\n",
       "         196424.06684911]),\n",
       "  'mean_mae': np.float64(198443.02264981795),\n",
       "  'std_mae': np.float64(2403.1912835026105)},\n",
       " 'Gradient Boosting': {'mae_scores': array([199526.07581424, 198761.04536554, 200984.56194626, 203015.79329778,\n",
       "         197847.27260212, 197151.57922971, 200186.55072875, 200847.46952386,\n",
       "         201235.2176736 , 202007.68673226, 193875.76916213, 203991.5967665 ,\n",
       "         201028.40427554, 198544.76379372, 203477.6084366 , 202590.4980343 ,\n",
       "         198433.40623783, 201000.054508  , 201760.24350198, 198125.85925607,\n",
       "         201415.55311149, 197376.94704595, 202971.22383444, 200467.67138634,\n",
       "         196301.88882926]),\n",
       "  'mean_mae': np.float64(200116.98964377173),\n",
       "  'std_mae': np.float64(2430.063733550974)}}"
      ]
     },
     "execution_count": 16,
     "metadata": {},
     "output_type": "execute_result"
    }
   ],
   "source": [
    "evaluate_models(models_dict,X_train_num_scaled2, y_train )"
   ]
  },
  {
   "cell_type": "markdown",
   "metadata": {},
   "source": [
    "### Part 2: Discussion [3 pts]\n",
    "\n",
    "Reflect on the impact of your new features:\n",
    "\n",
    "- Did any models show notable improvement in performance?\n",
    "\n",
    "- Which new features seemed to help — and in which models?\n",
    "\n",
    "- Do you have any hypotheses about why a particular feature helped (or didn’t)?\n",
    "\n",
    "\n"
   ]
  },
  {
   "cell_type": "markdown",
   "metadata": {},
   "source": [
    "The added features showed great improvement  for the Ridge Regression model (~13000 improvement). Almost no chage occured in the baggins regressor and gradient boosting models. Typically, ridge regression struggles to capture complex, non-linear relationships. By engineering new features that encapsulate this complexity, the model is easier able to improve. Ensemble method like random forest baggin and gradient boosting are already more equipped to uncover non-linear relationships, thus the new features did not yield better results.  "
   ]
  },
  {
   "cell_type": "markdown",
   "metadata": {},
   "source": [
    "### Part 3: Feature Selection [6 pts]\n",
    "\n",
    "Using the full set of features (original + engineered):\n",
    "- Apply **feature selection** methods to investigate whether you can improve performance.\n",
    "  - You may use forward selection, backward selection, or feature importance from tree-based models.\n",
    "- For each model, identify the **best-performing subset of features**.\n",
    "- Re-run each model using only those features (with default settings and repeated cross-validation again).\n",
    "- Report the **mean and standard deviation of CV MAE Scores**.  \n"
   ]
  },
  {
   "cell_type": "code",
   "execution_count": 17,
   "metadata": {},
   "outputs": [],
   "source": [
    "import pandas as pd\n",
    "import numpy as np\n",
    "from sklearn.datasets import make_classification\n",
    "from sklearn.linear_model import LogisticRegression\n",
    "from sklearn.model_selection import cross_val_score\n",
    "from sklearn.preprocessing import StandardScaler"
   ]
  },
  {
   "cell_type": "code",
   "execution_count": 18,
   "metadata": {},
   "outputs": [],
   "source": [
    "#Forward Selection Function\n",
    "def forward_selection(X, y, max_features=5):\n",
    "    # Use statistical test to rank all features at once\n",
    "    selector = SelectKBest(score_func=f_classif, k=max_features)\n",
    "    selector.fit(X, y)\n",
    "    return selector.get_support(indices=True)\n"
   ]
  },
  {
   "cell_type": "code",
   "execution_count": 49,
   "metadata": {},
   "outputs": [],
   "source": [
    "X_sample = X_train_num_scaled2.sample(n=10000, random_state=42)\n",
    "y_sample = y_train[X_sample.index]"
   ]
  },
  {
   "cell_type": "code",
   "execution_count": null,
   "metadata": {},
   "outputs": [
    {
     "name": "stderr",
     "output_type": "stream",
     "text": [
      "C:\\Users\\ljkap\\AppData\\Local\\Packages\\PythonSoftwareFoundation.Python.3.11_qbz5n2kfra8p0\\LocalCache\\local-packages\\Python311\\site-packages\\sklearn\\feature_selection\\_univariate_selection.py:110: UserWarning: Features [12] are constant.\n",
      "  warnings.warn(\"Features %s are constant.\" % constant_features_idx, UserWarning)\n",
      "C:\\Users\\ljkap\\AppData\\Local\\Packages\\PythonSoftwareFoundation.Python.3.11_qbz5n2kfra8p0\\LocalCache\\local-packages\\Python311\\site-packages\\sklearn\\feature_selection\\_univariate_selection.py:111: RuntimeWarning: invalid value encountered in divide\n",
      "  f = msb / msw\n"
     ]
    },
    {
     "data": {
      "text/html": [
       "<div>\n",
       "<style scoped>\n",
       "    .dataframe tbody tr th:only-of-type {\n",
       "        vertical-align: middle;\n",
       "    }\n",
       "\n",
       "    .dataframe tbody tr th {\n",
       "        vertical-align: top;\n",
       "    }\n",
       "\n",
       "    .dataframe thead th {\n",
       "        text-align: right;\n",
       "    }\n",
       "</style>\n",
       "<table border=\"1\" class=\"dataframe\">\n",
       "  <thead>\n",
       "    <tr style=\"text-align: right;\">\n",
       "      <th></th>\n",
       "      <th>calculatedfinishedsquarefeet</th>\n",
       "      <th>propertylandusetypeid</th>\n",
       "      <th>regionidzip</th>\n",
       "      <th>sqft_bath_interaction</th>\n",
       "      <th>sqft_vs_type_average</th>\n",
       "    </tr>\n",
       "  </thead>\n",
       "  <tbody>\n",
       "    <tr>\n",
       "      <th>37954</th>\n",
       "      <td>-0.303968</td>\n",
       "      <td>-0.151425</td>\n",
       "      <td>-0.031985</td>\n",
       "      <td>-0.313422</td>\n",
       "      <td>-0.468972</td>\n",
       "    </tr>\n",
       "    <tr>\n",
       "      <th>32219</th>\n",
       "      <td>0.702361</td>\n",
       "      <td>-0.151425</td>\n",
       "      <td>-0.120623</td>\n",
       "      <td>0.918034</td>\n",
       "      <td>0.581085</td>\n",
       "    </tr>\n",
       "    <tr>\n",
       "      <th>14684</th>\n",
       "      <td>-0.431723</td>\n",
       "      <td>-0.151425</td>\n",
       "      <td>-0.099949</td>\n",
       "      <td>-0.604893</td>\n",
       "      <td>-0.602277</td>\n",
       "    </tr>\n",
       "    <tr>\n",
       "      <th>19698</th>\n",
       "      <td>1.247937</td>\n",
       "      <td>-0.151425</td>\n",
       "      <td>-0.055501</td>\n",
       "      <td>0.756986</td>\n",
       "      <td>1.150366</td>\n",
       "    </tr>\n",
       "    <tr>\n",
       "      <th>50296</th>\n",
       "      <td>0.624871</td>\n",
       "      <td>-0.151425</td>\n",
       "      <td>0.126684</td>\n",
       "      <td>0.435431</td>\n",
       "      <td>0.500227</td>\n",
       "    </tr>\n",
       "    <tr>\n",
       "      <th>...</th>\n",
       "      <td>...</td>\n",
       "      <td>...</td>\n",
       "      <td>...</td>\n",
       "      <td>...</td>\n",
       "      <td>...</td>\n",
       "    </tr>\n",
       "    <tr>\n",
       "      <th>51986</th>\n",
       "      <td>-0.360515</td>\n",
       "      <td>0.789484</td>\n",
       "      <td>-0.056793</td>\n",
       "      <td>-0.073112</td>\n",
       "      <td>0.251317</td>\n",
       "    </tr>\n",
       "    <tr>\n",
       "      <th>954</th>\n",
       "      <td>-0.622308</td>\n",
       "      <td>-0.151425</td>\n",
       "      <td>-0.140262</td>\n",
       "      <td>-0.422949</td>\n",
       "      <td>-0.801144</td>\n",
       "    </tr>\n",
       "    <tr>\n",
       "      <th>66796</th>\n",
       "      <td>-0.488270</td>\n",
       "      <td>-0.151425</td>\n",
       "      <td>-0.016738</td>\n",
       "      <td>-0.376833</td>\n",
       "      <td>-0.661282</td>\n",
       "    </tr>\n",
       "    <tr>\n",
       "      <th>17601</th>\n",
       "      <td>-0.777289</td>\n",
       "      <td>-0.151425</td>\n",
       "      <td>-0.102016</td>\n",
       "      <td>-0.664341</td>\n",
       "      <td>-0.962859</td>\n",
       "    </tr>\n",
       "    <tr>\n",
       "      <th>73885</th>\n",
       "      <td>-0.853732</td>\n",
       "      <td>0.789484</td>\n",
       "      <td>0.104719</td>\n",
       "      <td>-0.502572</td>\n",
       "      <td>-0.517871</td>\n",
       "    </tr>\n",
       "  </tbody>\n",
       "</table>\n",
       "<p>10000 rows × 5 columns</p>\n",
       "</div>"
      ],
      "text/plain": [
       "       calculatedfinishedsquarefeet  propertylandusetypeid  regionidzip  \\\n",
       "37954                     -0.303968              -0.151425    -0.031985   \n",
       "32219                      0.702361              -0.151425    -0.120623   \n",
       "14684                     -0.431723              -0.151425    -0.099949   \n",
       "19698                      1.247937              -0.151425    -0.055501   \n",
       "50296                      0.624871              -0.151425     0.126684   \n",
       "...                             ...                    ...          ...   \n",
       "51986                     -0.360515               0.789484    -0.056793   \n",
       "954                       -0.622308              -0.151425    -0.140262   \n",
       "66796                     -0.488270              -0.151425    -0.016738   \n",
       "17601                     -0.777289              -0.151425    -0.102016   \n",
       "73885                     -0.853732               0.789484     0.104719   \n",
       "\n",
       "       sqft_bath_interaction  sqft_vs_type_average  \n",
       "37954              -0.313422             -0.468972  \n",
       "32219               0.918034              0.581085  \n",
       "14684              -0.604893             -0.602277  \n",
       "19698               0.756986              1.150366  \n",
       "50296               0.435431              0.500227  \n",
       "...                      ...                   ...  \n",
       "51986              -0.073112              0.251317  \n",
       "954                -0.422949             -0.801144  \n",
       "66796              -0.376833             -0.661282  \n",
       "17601              -0.664341             -0.962859  \n",
       "73885              -0.502572             -0.517871  \n",
       "\n",
       "[10000 rows x 5 columns]"
      ]
     },
     "execution_count": 40,
     "metadata": {},
     "output_type": "execute_result"
    }
   ],
   "source": [
    "forward_selected_indices = forward_selection(X_sample, y_sample, max_features=5)\n",
    "forward_selected_data = X_sample.iloc[:, forward_selected_indices]  # For pandas DataFrames\n",
    "forward_selected_data"
   ]
  },
  {
   "cell_type": "code",
   "execution_count": 43,
   "metadata": {},
   "outputs": [],
   "source": [
    "#Backward Selection Function\n",
    "def fast_backward_elimination(X, y, min_features=5):\n",
    "    # Get all feature scores at once\n",
    "    selector = SelectKBest(score_func=f_classif, k='all')\n",
    "    selector.fit(X, y)\n",
    "    scores = selector.scores_\n",
    "    \n",
    "    # Start with all features, remove lowest scoring ones\n",
    "    n_features = X.shape[1]\n",
    "    selected_indices = list(range(n_features))\n",
    "    \n",
    "    while len(selected_indices) > min_features:\n",
    "        # Find worst feature among remaining\n",
    "        remaining_scores = [scores[i] for i in selected_indices]\n",
    "        worst_idx = selected_indices[np.argmin(remaining_scores)]\n",
    "        selected_indices.remove(worst_idx)\n",
    "    \n",
    "    return np.array(selected_indices)"
   ]
  },
  {
   "cell_type": "code",
   "execution_count": 64,
   "metadata": {},
   "outputs": [
    {
     "name": "stderr",
     "output_type": "stream",
     "text": [
      "C:\\Users\\ljkap\\AppData\\Local\\Packages\\PythonSoftwareFoundation.Python.3.11_qbz5n2kfra8p0\\LocalCache\\local-packages\\Python311\\site-packages\\sklearn\\feature_selection\\_univariate_selection.py:110: UserWarning: Features [12] are constant.\n",
      "  warnings.warn(\"Features %s are constant.\" % constant_features_idx, UserWarning)\n",
      "C:\\Users\\ljkap\\AppData\\Local\\Packages\\PythonSoftwareFoundation.Python.3.11_qbz5n2kfra8p0\\LocalCache\\local-packages\\Python311\\site-packages\\sklearn\\feature_selection\\_univariate_selection.py:111: RuntimeWarning: invalid value encountered in divide\n",
      "  f = msb / msw\n"
     ]
    },
    {
     "data": {
      "text/plain": [
       "array([[-0.30396835, -0.1514247 , -0.0319849 , -0.31342232, -0.46897163],\n",
       "       [ 0.70236132, -0.1514247 , -0.1206225 ,  0.91803403,  0.58108491],\n",
       "       [-0.431723  , -0.1514247 , -0.09994901, -0.60489341, -0.60227745],\n",
       "       ...,\n",
       "       [-0.48827014, -0.1514247 , -0.01673819, -0.37683259, -0.66128167],\n",
       "       [-0.77728886, -0.1514247 , -0.10201636, -0.66434054, -0.96285878],\n",
       "       [-0.85373222,  0.7894837 ,  0.10471859, -0.50257228, -0.51787096]],\n",
       "      shape=(10000, 5))"
      ]
     },
     "execution_count": 64,
     "metadata": {},
     "output_type": "execute_result"
    }
   ],
   "source": [
    "backward_selected_indices = fast_backward_elimination(X_sample, y_sample, min_features=5)\n",
    "backward_selected_data = X_sample.iloc[:, forward_selected_indices].values\n",
    "backward_selected_data"
   ]
  },
  {
   "cell_type": "markdown",
   "metadata": {},
   "source": [
    "#### Re-Run Models"
   ]
  },
  {
   "cell_type": "code",
   "execution_count": 63,
   "metadata": {},
   "outputs": [
    {
     "data": {
      "text/plain": [
       "Index(['calculatedfinishedsquarefeet', 'propertylandusetypeid', 'regionidzip',\n",
       "       'sqft_bath_interaction', 'sqft_vs_type_average'],\n",
       "      dtype='object')"
      ]
     },
     "execution_count": 63,
     "metadata": {},
     "output_type": "execute_result"
    }
   ],
   "source": [
    "forward_selected_column_names = X_train_num_scaled2.columns[forward_selected_indices]\n",
    "forward_selected_column_names"
   ]
  },
  {
   "cell_type": "code",
   "execution_count": 60,
   "metadata": {},
   "outputs": [
    {
     "name": "stdout",
     "output_type": "stream",
     "text": [
      "Ridge Regression     -> MAE: 245071.393 ± 3284.876\n",
      "Bagging Regressor    -> MAE: 219407.081 ± 3149.185\n",
      "Gradient Boosting    -> MAE: 212215.773 ± 3095.143\n"
     ]
    }
   ],
   "source": [
    "forward_model_performance = evaluate_models(models_dict,X_train_num_scaled2[forward_selected_column_names], y_train )"
   ]
  },
  {
   "cell_type": "code",
   "execution_count": 65,
   "metadata": {},
   "outputs": [
    {
     "data": {
      "text/plain": [
       "Index(['calculatedfinishedsquarefeet', 'propertylandusetypeid', 'regionidzip',\n",
       "       'sqft_bath_interaction', 'sqft_vs_type_average'],\n",
       "      dtype='object')"
      ]
     },
     "execution_count": 65,
     "metadata": {},
     "output_type": "execute_result"
    }
   ],
   "source": [
    "backward_selected_column_names = X_train_num_scaled2.columns[backward_selected_indices]\n",
    "backward_selected_column_names"
   ]
  },
  {
   "cell_type": "code",
   "execution_count": 66,
   "metadata": {},
   "outputs": [
    {
     "name": "stdout",
     "output_type": "stream",
     "text": [
      "Ridge Regression     -> MAE: 245071.393 ± 3284.876\n",
      "Bagging Regressor    -> MAE: 219407.081 ± 3149.185\n",
      "Gradient Boosting    -> MAE: 212215.773 ± 3095.143\n"
     ]
    }
   ],
   "source": [
    "backward_selected_columns = X_sample.columns[backward_selected_indices].tolist()\n",
    "backward_model_performance = evaluate_models(models_dict,X_train_num_scaled2[backward_selected_columns], y_train)"
   ]
  },
  {
   "cell_type": "markdown",
   "metadata": {},
   "source": [
    "### Part 3: Discussion [3 pts]\n",
    "\n",
    "Analyze the effect of feature selection on your models:\n",
    "\n",
    "- Did performance improve for any models after reducing the number of features?\n",
    "\n",
    "- Which features were consistently retained across models?\n",
    "\n",
    "- Were any of your newly engineered features selected as important?\n"
   ]
  },
  {
   "cell_type": "markdown",
   "metadata": {},
   "source": [
    "Perforamnce did not improved using the smaller number of features. Both forward and backward selection retained the same 5 features: calculatedfinishedsquarefeet, propertylandusetypeid, regionidzip, sqft_bath_interaction, sqft_vs_type_average. Two of the engineered features were selected as important: sqft_bath_interaction\n",
    "and sqft_vs_type_average."
   ]
  },
  {
   "cell_type": "markdown",
   "metadata": {},
   "source": [
    "### Part 4: Fine-Tuning Your Three Models [6 pts]\n",
    "\n",
    "In this final phase of Milestone 2, you’ll select and refine your **three most promising models and their corresponding data pipelines** based on everything you've done so far, and pick a winner!\n",
    "\n",
    "1. For each of your three models:\n",
    "    - Choose your best engineered features and best selection of features as determined above. \n",
    "   - Perform hyperparameter tuning using `sweep_parameters`, `GridSearchCV`, `RandomizedSearchCV`, `Optuna`, etc. as you have practiced in previous homeworks. \n",
    "3. Decide on the best hyperparameters for each model, and for each run with repeated CV and record their final results:\n",
    "    - Report the **mean and standard deviation of CV MAE Score**.  "
   ]
  },
  {
   "cell_type": "code",
   "execution_count": null,
   "metadata": {},
   "outputs": [
    {
     "name": "stdout",
     "output_type": "stream",
     "text": [
      "Ridge MAE: 243545.03 ± 3092.46\n"
     ]
    }
   ],
   "source": [
    "# Add as many cells as you need\n",
    "\n",
    "cv = RepeatedKFold(n_splits=5, n_repeats=3, random_state=42)\n",
    "\n",
    "\n",
    "ridge = Ridge(random_state=42)\n",
    "param_grid_ridge = {\n",
    "    'alpha': [0.01, 0.1, 1.0, 10.0, 100.0]\n",
    "}\n",
    "\n",
    "ridge_grid = GridSearchCV(\n",
    "    ridge, param_grid_ridge,\n",
    "    cv=cv, scoring='neg_mean_absolute_error',\n",
    "    n_jobs=-1\n",
    ")\n",
    "ridge_grid.fit(X_train_scaled, y_train)\n",
    "\n",
    "best_ridge = ridge_grid.best_estimator_\n",
    "ridge_score = -ridge_grid.best_score_\n",
    "ridge_std = ridge_grid.cv_results_['std_test_score'][ridge_grid.best_index_]\n",
    "\n",
    "print(f\"Ridge MAE: {ridge_score:.2f} ± {ridge_std:.2f}\")"
   ]
  },
  {
   "cell_type": "code",
   "execution_count": null,
   "metadata": {},
   "outputs": [
    {
     "name": "stdout",
     "output_type": "stream",
     "text": [
      "Bagging MAE: 188472.38 ± 2550.82\n"
     ]
    }
   ],
   "source": [
    "bagging = BaggingRegressor(random_state=42)\n",
    "param_grid_bag = {\n",
    "    'n_estimators': [10, 50, 100],\n",
    "    'max_samples': [0.5, 0.8, 1.0],\n",
    "    'max_features': [0.5, 0.8, 1.0]\n",
    "}\n",
    "\n",
    "bag_grid = GridSearchCV(\n",
    "    bagging, param_grid_bag,\n",
    "    cv=cv, scoring='neg_mean_absolute_error',\n",
    "    n_jobs=-1\n",
    ")\n",
    "bag_grid.fit(X_train_scaled, y_train)\n",
    "\n",
    "best_bag = bag_grid.best_estimator_\n",
    "bag_score = -bag_grid.best_score_\n",
    "bag_std = bag_grid.cv_results_['std_test_score'][bag_grid.best_index_]\n",
    "\n",
    "print(f\"Bagging MAE: {bag_score:.2f} ± {bag_std:.2f}\")"
   ]
  },
  {
   "cell_type": "code",
   "execution_count": null,
   "metadata": {},
   "outputs": [
    {
     "name": "stdout",
     "output_type": "stream",
     "text": [
      "Gradient Boosting MAE: 190770.09 ± 2609.70\n"
     ]
    }
   ],
   "source": [
    "gbr = GradientBoostingRegressor(random_state=42)\n",
    "param_grid_gb = {\n",
    "    'n_estimators': [100, 200],\n",
    "    'learning_rate': [0.05, 0.1],\n",
    "    'max_depth': [3, 5]\n",
    "}\n",
    "\n",
    "gb_grid = GridSearchCV(\n",
    "    gbr, param_grid_gb,\n",
    "    cv=cv, scoring='neg_mean_absolute_error',\n",
    "    n_jobs=-1\n",
    ")\n",
    "gb_grid.fit(X_train_scaled, y_train)\n",
    "\n",
    "best_gb = gb_grid.best_estimator_\n",
    "gb_score = -gb_grid.best_score_\n",
    "gb_std = gb_grid.cv_results_['std_test_score'][gb_grid.best_index_]\n",
    "\n",
    "print(f\"Gradient Boosting MAE: {gb_score:.2f} ± {gb_std:.2f}\")"
   ]
  },
  {
   "cell_type": "markdown",
   "metadata": {},
   "source": [
    "### Part 4: Discussion [3 pts]\n",
    "\n",
    "Reflect on your tuning process and final results:\n",
    "\n",
    "- What was your tuning strategy for each model? Why did you choose those hyperparameters?\n",
    "- Did you find that certain types of preprocessing or feature engineering worked better with specific models?\n"
   ]
  },
  {
   "cell_type": "markdown",
   "metadata": {},
   "source": [
    "I fined tuned ridge, bagging, and gradient boosting models using grid search with cross-validation. \n",
    "\n",
    "For ridge regression, I adjusted the regularization strength parameter to control overfitting and improve generalization. For bagging, I adjusted the number of estimators and the proportion of samples and features to balance variance reduction. In gradient boosting, I tuned the number of estimators, learning nrate, and max depth to improve performance. \n",
    "\n",
    "This resulted in bagging achieving the lowest MAE. Gradient boosting followed closely, and ridge regression performed the worst. Overall, the preprocessing steps helped create consisted features that worked well for tree-based models. "
   ]
  },
  {
   "cell_type": "markdown",
   "metadata": {},
   "source": [
    "### Part 5: Final Model and Design Reassessment [6 pts]\n",
    "\n",
    "In this part, you will finalize your best-performing model.  You’ll also consolidate and present the key code used to run your model on the preprocessed dataset.\n",
    "**Requirements:**\n",
    "\n",
    "- Decide one your final model among the three contestants. \n",
    "\n",
    "- Below, include all code necessary to **run your final model** on the processed dataset, reporting\n",
    "\n",
    "    - Mean and standard deviation of CV MAE Score.\n",
    "    \n",
    "    - Test score on held-out test set. \n",
    "\n",
    "\n"
   ]
  },
  {
   "cell_type": "code",
   "execution_count": null,
   "metadata": {},
   "outputs": [
    {
     "name": "stdout",
     "output_type": "stream",
     "text": [
      "CV MAE: 188472.38 ± 2550.82\n",
      "Test Set MAE: 189528.59\n"
     ]
    }
   ],
   "source": [
    "from sklearn.model_selection import RepeatedKFold, cross_val_score\n",
    "from sklearn.metrics import mean_absolute_error\n",
    "\n",
    "final_model = best_bag\n",
    "\n",
    "final_model.fit(X_train_scaled, y_train)\n",
    "\n",
    "cv = RepeatedKFold(n_splits=5, n_repeats=3, random_state=42)\n",
    "cv_scores = cross_val_score(\n",
    "    final_model,\n",
    "    X_train_scaled,\n",
    "    y_train,\n",
    "    scoring=\"neg_mean_absolute_error\",\n",
    "    cv=cv,\n",
    "    n_jobs=-1\n",
    ")\n",
    "\n",
    "cv_mae_mean = -cv_scores.mean()\n",
    "cv_mae_std = cv_scores.std()\n",
    "\n",
    "y_pred = final_model.predict(X_test_scaled)\n",
    "test_mae = mean_absolute_error(y_test, y_pred)\n",
    "\n",
    "print(f\"CV MAE: {cv_mae_mean:.2f} ± {cv_mae_std:.2f}\")\n",
    "print(f\"Test Set MAE: {test_mae:.2f}\")"
   ]
  },
  {
   "cell_type": "markdown",
   "metadata": {},
   "source": [
    "### Part 5: Discussion [8 pts]\n",
    "\n",
    "In this final step, your goal is to synthesize your entire modeling process and assess how your earlier decisions influenced the outcome. Please address the following:\n",
    "\n",
    "1. Model Selection:\n",
    "- Clearly state which model you selected as your final model and why.\n",
    "\n",
    "- What metrics or observations led you to this decision?\n",
    "\n",
    "- Were there trade-offs (e.g., interpretability vs. performance) that influenced your choice?\n",
    "\n",
    "2. Revisiting an Early Decision\n",
    "\n",
    "- Identify one specific preprocessing or feature engineering decision from Milestone 1 (e.g., how you handled missing values, how you scaled or encoded a variable, or whether you created interaction or polynomial terms).\n",
    "\n",
    "- Explain the rationale for that decision at the time: What were you hoping it would achieve?\n",
    "\n",
    "- Now that you've seen the full modeling pipeline and final results, reflect on whether this step helped or hindered performance. Did you keep it, modify it, or remove it?\n",
    "\n",
    "- Justify your final decision with evidence—such as validation scores, visualizations, or model diagnostics.\n",
    "\n",
    "3. Lessons Learned\n",
    "\n",
    "- What insights did you gain about your dataset or your modeling process through this end-to-end workflow?\n",
    "\n",
    "- If you had more time or data, what would you explore next?"
   ]
  },
  {
   "cell_type": "markdown",
   "metadata": {},
   "source": [
    "### 1. Model Selection\n",
    "\n",
    "Of the three models selected, the bagging regressor had the best performance during cross-validation. It's MAE was slightly better than gradient boosting and also performed well on the held-out test set, closely aligning with the CV performance. The consistent results confirmed its choice as the final model. "
   ]
  },
  {
   "cell_type": "markdown",
   "metadata": {},
   "source": [
    "### 2. Revisting an Early Decision"
   ]
  },
  {
   "cell_type": "markdown",
   "metadata": {},
   "source": [
    "One of the decisions we decided to implement in Milestone 1 was to use create interaction terms. We decided this because interaction terms help determine the value of a particular feature based on other features. Real estate in particular is an industry where features typically do not have a lone affect. Polynomial terms typically would help us determine whether or not a particular feature has an exponential relationship with price, an unlikely scenario. \n",
    "\n",
    "This decision ended up having the affect we had hoped. Model performance after adding the interaction features improved by more than 10,000 units in both the bagging regressor model and the gradient boosting model. Additionally, the forward and backward selection models both chose to include two of our itneraction features. This is great evidence that these new features are key to creating a more accurate model. "
   ]
  },
  {
   "cell_type": "markdown",
   "metadata": {},
   "source": [
    "### 3. Lessons Learned"
   ]
  },
  {
   "cell_type": "markdown",
   "metadata": {},
   "source": [
    "We gained several insights about our data and modeling process through this end-to-end workflow. First, we found that this particular industry has relationships that are often non-linear, complex relationships. Tree-based models and interaction features are seemingly the best approaches to model creation and feature engineering. \n",
    "\n",
    "We also found that hyperparameter tuning is extremely important to a good model. We saw hige gains in the our MAE through grid search. \n",
    "\n",
    "If we had mroe time, we would look to deploy more complex feature engineering methods, looking at possible relationships between location and price, as well as season affects on price. We would also look to create more sophisitcated ensemble methods that combine our most succesful models. "
   ]
  },
  {
   "cell_type": "markdown",
   "metadata": {},
   "source": []
  }
 ],
 "metadata": {
  "kernelspec": {
   "display_name": "Python 3",
   "language": "python",
   "name": "python3"
  },
  "language_info": {
   "codemirror_mode": {
    "name": "ipython",
    "version": 3
   },
   "file_extension": ".py",
   "mimetype": "text/x-python",
   "name": "python",
   "nbconvert_exporter": "python",
   "pygments_lexer": "ipython3",
   "version": "3.11.9"
  }
 },
 "nbformat": 4,
 "nbformat_minor": 4
}
